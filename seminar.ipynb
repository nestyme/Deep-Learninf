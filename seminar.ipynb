{
 "cells": [
  {
   "cell_type": "code",
   "execution_count": 1,
   "metadata": {},
   "outputs": [],
   "source": [
    "import numpy as np\n",
    "import matplotlib.pyplot as plt\n",
    "%matplotlib inline\n",
    "\n",
    "import PIL"
   ]
  },
  {
   "cell_type": "code",
   "execution_count": 2,
   "metadata": {},
   "outputs": [
    {
     "ename": "ImportError",
     "evalue": "No module named 'cv2'",
     "output_type": "error",
     "traceback": [
      "\u001b[0;31m---------------------------------------------------------------------------\u001b[0m",
      "\u001b[0;31mImportError\u001b[0m                               Traceback (most recent call last)",
      "\u001b[0;32m<ipython-input-2-855749387f93>\u001b[0m in \u001b[0;36m<module>\u001b[0;34m()\u001b[0m\n\u001b[0;32m----> 1\u001b[0;31m \u001b[0;32mimport\u001b[0m \u001b[0mcv2\u001b[0m\u001b[0;34m\u001b[0m\u001b[0m\n\u001b[0m\u001b[1;32m      2\u001b[0m \u001b[0;32mfrom\u001b[0m \u001b[0mtorchvision\u001b[0m \u001b[0;32mimport\u001b[0m \u001b[0mdatasets\u001b[0m\u001b[0;34m,\u001b[0m \u001b[0mtransforms\u001b[0m\u001b[0;34m\u001b[0m\u001b[0m\n",
      "\u001b[0;31mImportError\u001b[0m: No module named 'cv2'"
     ]
    }
   ],
   "source": [
    "import cv2\n",
    "from torchvision import datasets, transforms"
   ]
  },
  {
   "cell_type": "markdown",
   "metadata": {},
   "source": [
    "### Датасет"
   ]
  },
  {
   "cell_type": "code",
   "execution_count": null,
   "metadata": {
    "collapsed": true
   },
   "outputs": [],
   "source": [
    "mnist = datasets.MNIST('./DLSCH/data/', transform=transforms.Compose([\n",
    "                       transforms.ToTensor(),\n",
    "                       transforms.Normalize((0.1307,), (0.3081,))\n",
    "                   ]))"
   ]
  },
  {
   "cell_type": "code",
   "execution_count": null,
   "metadata": {
    "collapsed": true
   },
   "outputs": [],
   "source": [
    "sample = mnist.train_data[np.random.randint(len(mnist.train_data))].numpy()"
   ]
  },
  {
   "cell_type": "code",
   "execution_count": null,
   "metadata": {},
   "outputs": [],
   "source": [
    "plt.imshow(sample, cmap='gray')"
   ]
  },
  {
   "cell_type": "markdown",
   "metadata": {},
   "source": [
    "### Линейные фильтры"
   ]
  },
  {
   "cell_type": "code",
   "execution_count": null,
   "metadata": {
    "collapsed": true
   },
   "outputs": [],
   "source": [
    "def display_gray(img):\n",
    "    plt.figure(figsize=(5,5))\n",
    "    plt.imshow(img, cmap='gray')"
   ]
  },
  {
   "cell_type": "code",
   "execution_count": null,
   "metadata": {
    "collapsed": true
   },
   "outputs": [],
   "source": [
    "def apply_filter(img, filter):\n",
    "    output = []\n",
    "    for i in range(img.shape[0] - filter.shape[0] + 1):\n",
    "        output_row = []\n",
    "        for j in range(img.shape[1] - filter.shape[1] + 1):\n",
    "            output_row.append(np.maximum(np.tensordot(img[i:i+filter.shape[0], j:j+filter.shape[1]], filter), 0))\n",
    "        output.append(output_row)\n",
    "    return np.array(output)"
   ]
  },
  {
   "cell_type": "code",
   "execution_count": null,
   "metadata": {},
   "outputs": [],
   "source": [
    "none_filter = np.array([[0, 0, 0],\n",
    "                        [0, 1, 0],\n",
    "                        [0, 0, 0]])\n",
    "display_gray(apply_filter(sample, none_filter))"
   ]
  },
  {
   "cell_type": "code",
   "execution_count": null,
   "metadata": {},
   "outputs": [],
   "source": [
    "edge_filter = np.array([[1, 1, 1],\n",
    "                        [1, -8, 1],\n",
    "                        [1, 1, 1]])\n",
    "display_gray(apply_filter(sample, edge_filter))"
   ]
  },
  {
   "cell_type": "code",
   "execution_count": null,
   "metadata": {},
   "outputs": [],
   "source": [
    "sharp_filter = np.array([[0, -1, 0],\n",
    "                        [-1, 5, -1],\n",
    "                        [0, -1, 0]])\n",
    "display_gray(apply_filter(sample, sharp_filter))"
   ]
  },
  {
   "cell_type": "code",
   "execution_count": null,
   "metadata": {},
   "outputs": [],
   "source": [
    "blur_filter = np.array([[1, 1, 1],\n",
    "                        [1, 1, 1],\n",
    "                        [1, 1, 1]])\n",
    "display_gray(apply_filter(sample, blur_filter))"
   ]
  },
  {
   "cell_type": "markdown",
   "metadata": {},
   "source": [
    "## Добавим stride"
   ]
  },
  {
   "cell_type": "code",
   "execution_count": null,
   "metadata": {
    "collapsed": true
   },
   "outputs": [],
   "source": [
    "def apply_filter_with_stride(img, filter, stride=1):\n",
    "    output = []\n",
    "    # ваш код здесь\n",
    "    return np.array(output)"
   ]
  },
  {
   "cell_type": "markdown",
   "metadata": {},
   "source": [
    "## PyTorch"
   ]
  },
  {
   "cell_type": "code",
   "execution_count": null,
   "metadata": {
    "collapsed": true
   },
   "outputs": [],
   "source": [
    "from __future__ import print_function\n",
    "import torch\n",
    "from torch.autograd import Variable"
   ]
  },
  {
   "cell_type": "code",
   "execution_count": null,
   "metadata": {},
   "outputs": [],
   "source": [
    "a = torch.from_numpy(np.array([4, 1]))\n",
    "b = torch.from_numpy(np.array([4, 1], dtype='float32'))\n",
    "print(a)\n",
    "print(b)"
   ]
  },
  {
   "cell_type": "code",
   "execution_count": null,
   "metadata": {
    "collapsed": true
   },
   "outputs": [],
   "source": [
    "w = torch.from_numpy(np.array([[1, 2], [2 ,1 ]]))"
   ]
  },
  {
   "cell_type": "code",
   "execution_count": null,
   "metadata": {},
   "outputs": [],
   "source": [
    "w = Variable(w, requires_grad=True)"
   ]
  },
  {
   "cell_type": "code",
   "execution_count": null,
   "metadata": {},
   "outputs": [],
   "source": [
    "w"
   ]
  },
  {
   "cell_type": "code",
   "execution_count": null,
   "metadata": {
    "collapsed": true
   },
   "outputs": [],
   "source": [
    "av = Variable(a, requires_grad=True)"
   ]
  },
  {
   "cell_type": "code",
   "execution_count": null,
   "metadata": {},
   "outputs": [],
   "source": [
    "f = 2 * w @ av"
   ]
  },
  {
   "cell_type": "code",
   "execution_count": null,
   "metadata": {},
   "outputs": [],
   "source": [
    "v = torch.sum(f)"
   ]
  },
  {
   "cell_type": "code",
   "execution_count": null,
   "metadata": {},
   "outputs": [],
   "source": [
    "v"
   ]
  },
  {
   "cell_type": "code",
   "execution_count": null,
   "metadata": {
    "collapsed": true
   },
   "outputs": [],
   "source": [
    "v.backward()"
   ]
  },
  {
   "cell_type": "code",
   "execution_count": null,
   "metadata": {},
   "outputs": [],
   "source": [
    "w.grad"
   ]
  },
  {
   "cell_type": "code",
   "execution_count": null,
   "metadata": {},
   "outputs": [],
   "source": [
    "av.grad"
   ]
  },
  {
   "cell_type": "markdown",
   "metadata": {},
   "source": [
    "## DenseNN"
   ]
  },
  {
   "cell_type": "code",
   "execution_count": null,
   "metadata": {
    "collapsed": true
   },
   "outputs": [],
   "source": [
    "class Layer(object):\n",
    "    '''\n",
    "        Абстрактный класс слоя\n",
    "    '''\n",
    "    def __init__(self, input_shape, output_shape):\n",
    "        self.input_shape = input_shape\n",
    "        self.output_shape = output_shape\n",
    "    '''\n",
    "        Прямой проход\n",
    "    '''\n",
    "    def forward(self, input):\n",
    "        assert False, 'Abstract class'\n",
    "    '''\n",
    "        Обратный проход\n",
    "        optimizer - объект с функцией update(params, output), обновляющий параметры\n",
    "    '''\n",
    "    def backward(self, optimizer):\n",
    "        assert False, 'Abstract class'"
   ]
  },
  {
   "cell_type": "code",
   "execution_count": null,
   "metadata": {},
   "outputs": [],
   "source": [
    "class Dense(Layer):\n",
    "    '''\n",
    "        Полносвязный слой.\n",
    "    '''\n",
    "    def __init__(self, input_size, output_size):\n",
    "        assert input_size > 0\n",
    "        assert output_size > 0\n",
    "        super(Dense, self).__init__((-1, input_size), (-1, output_size))\n",
    "        self.weights = #your code here\n",
    "        self.bias = #your code here\n",
    "    \n",
    "    def forward(self, x):\n",
    "        self.output = #your code here\n",
    "        return self.output\n",
    "    \n",
    "    def backward(self, optimizer):\n",
    "        params = [self.weights, self.bias]\n",
    "        optimizer.update(params, self.output)"
   ]
  },
  {
   "cell_type": "code",
   "execution_count": null,
   "metadata": {
    "collapsed": true
   },
   "outputs": [],
   "source": [
    "class ReLU(Layer):\n",
    "    '''\n",
    "        ReLU\n",
    "    '''\n",
    "    def __init__(self, input_size):\n",
    "        super(ReLU, self).__init__((-1, input_size), (-1, input_size))\n",
    "    \n",
    "    def forward(self,x):\n",
    "        self.output = x.clamp(min = 0)\n",
    "        return self.output\n",
    "    \n",
    "    def backward(self, optimizer):\n",
    "        pass"
   ]
  },
  {
   "cell_type": "markdown",
   "metadata": {},
   "source": [
    "Напоминание: $softmax(x)_{i} = \\frac{e^{x_i}}{\\sum_{j}e^{x_j}}$"
   ]
  },
  {
   "cell_type": "code",
   "execution_count": null,
   "metadata": {
    "collapsed": true
   },
   "outputs": [],
   "source": [
    "class Softmax(Layer):\n",
    "    '''\n",
    "        Softmax \n",
    "    '''\n",
    "    def __init__(self, input_size):\n",
    "        super(Softmax, self).__init__((-1, input_size), (-1, input_size))\n",
    "    \n",
    "    def forward(self,x):\n",
    "        self.output = #your code here \n",
    "        return self.output\n",
    "    \n",
    "    def backward(self, optimizer):\n",
    "        pass"
   ]
  },
  {
   "cell_type": "code",
   "execution_count": null,
   "metadata": {
    "collapsed": true
   },
   "outputs": [],
   "source": [
    "class Loss(object):\n",
    "    '''\n",
    "        Абстрактная фуенкция потерь\n",
    "    '''\n",
    "    def __init__(self):\n",
    "        pass\n",
    "    \n",
    "    def forward(self, x, y):\n",
    "        self.output = self.do_forward(x, y)\n",
    "        return self.output\n",
    "    \n",
    "    def backward(self):\n",
    "        self.output.backward()\n",
    "        \n",
    "    def do_forward(self, x, y):\n",
    "        assert False, 'Abstract class'"
   ]
  },
  {
   "cell_type": "code",
   "execution_count": null,
   "metadata": {
    "collapsed": true
   },
   "outputs": [],
   "source": [
    "class CrossEntropy(Loss):\n",
    "    '''\n",
    "        Кросс-энтропия\n",
    "    '''\n",
    "    def do_forward(self, x, y):\n",
    "        return torch.sum(-1*y* torch.squeeze(torch.log(x+1e-9)))"
   ]
  },
  {
   "cell_type": "code",
   "execution_count": null,
   "metadata": {
    "collapsed": true
   },
   "outputs": [],
   "source": [
    "class SeqNet:\n",
    "    '''\n",
    "        Сеть, связывающая слои последовательно\n",
    "    '''\n",
    "    def __init__(self):\n",
    "        self.layers = []\n",
    "        self.output = None\n",
    "        self.loss = None\n",
    "        \n",
    "    def add(self, layer):\n",
    "        self.layers.append(layer)\n",
    "        \n",
    "    def setLoss(self, loss):\n",
    "        self.loss = loss\n",
    "        \n",
    "    def forward(self, x, y=None):\n",
    "        self.output = x\n",
    "        for layer in self.layers:\n",
    "            self.output = layer.forward(self.output)\n",
    "        if (self.loss is not None) and (y is not None):\n",
    "            self.loss_value = self.loss.forward(self.output, y)\n",
    "        return self.output\n",
    "    \n",
    "    def backward(self, optimizer):\n",
    "        self.loss.backward()\n",
    "        for layer in self.layers[::-1]:\n",
    "            layer.backward(optimizer)"
   ]
  },
  {
   "cell_type": "code",
   "execution_count": null,
   "metadata": {
    "collapsed": true
   },
   "outputs": [],
   "source": [
    "class Optimizer:\n",
    "    def __init__(self):\n",
    "        pass\n",
    "    \n",
    "    def update(self, params, output):\n",
    "        assert False, 'Abstract class'"
   ]
  },
  {
   "cell_type": "code",
   "execution_count": null,
   "metadata": {
    "collapsed": true
   },
   "outputs": [],
   "source": [
    "class SimpleOptimizer(Optimizer):\n",
    "    \n",
    "    def __init__(self, learning_rate):\n",
    "        self.learning_rate = learning_rate\n",
    "        \n",
    "    def update(self, params, output):\n",
    "        for param in params:\n",
    "            param.data -= self.learning_rate * param.grad.data"
   ]
  },
  {
   "cell_type": "markdown",
   "metadata": {},
   "source": [
    "### MNIST net"
   ]
  },
  {
   "cell_type": "code",
   "execution_count": null,
   "metadata": {
    "collapsed": true
   },
   "outputs": [],
   "source": [
    "import torch.utils"
   ]
  },
  {
   "cell_type": "code",
   "execution_count": null,
   "metadata": {
    "collapsed": true
   },
   "outputs": [],
   "source": [
    "indices = torch.from_numpy(np.random.permutation(len(mnist.train_data)))\n",
    "X = mnist.train_data[indices]\n",
    "y = mnist.train_labels[indices]"
   ]
  },
  {
   "cell_type": "code",
   "execution_count": null,
   "metadata": {
    "collapsed": true
   },
   "outputs": [],
   "source": [
    "y_one_hot = torch.FloatTensor(len(y), 10)\n",
    "y_one_hot.zero_()\n",
    "y_one_hot = y_one_hot.scatter_(1, y.view(-1, 1), 1)"
   ]
  },
  {
   "cell_type": "code",
   "execution_count": null,
   "metadata": {
    "collapsed": true
   },
   "outputs": [],
   "source": [
    "test_size = 10000\n",
    "X_train = X[:-test_size].float()/255-0.5\n",
    "X_test = X[-test_size:].float()/255-0.5\n",
    "y_train = y_one_hot[:-test_size].float()\n",
    "y_test = y_one_hot[-test_size:].float()"
   ]
  },
  {
   "cell_type": "code",
   "execution_count": null,
   "metadata": {},
   "outputs": [],
   "source": [
    "plt.imshow(X_train[0].numpy(), cmap='gray')"
   ]
  },
  {
   "cell_type": "code",
   "execution_count": null,
   "metadata": {
    "collapsed": true
   },
   "outputs": [],
   "source": [
    "from tqdm import trange\n",
    "def iterate_minibatches(inputs, targets, batchsize, shuffle=False):\n",
    "    assert len(inputs) == len(targets)\n",
    "    if shuffle:\n",
    "        indices = np.random.permutation(len(inputs))\n",
    "    for start_idx in trange(0, len(inputs) - batchsize + 1, batchsize):\n",
    "        if shuffle:\n",
    "            excerpt = indices[start_idx:start_idx + batchsize]\n",
    "        else:\n",
    "            excerpt = slice(start_idx, start_idx + batchsize)\n",
    "        yield inputs[excerpt], targets[excerpt]"
   ]
  },
  {
   "cell_type": "code",
   "execution_count": null,
   "metadata": {
    "collapsed": true
   },
   "outputs": [],
   "source": [
    "from IPython.display import clear_output"
   ]
  },
  {
   "cell_type": "code",
   "execution_count": null,
   "metadata": {
    "collapsed": true
   },
   "outputs": [],
   "source": [
    "def accuracy(result, val_tensor):\n",
    "    t, ind_result = torch.max(result, 1)\n",
    "    t, ind_val = torch.max(val_tensor, 1)\n",
    "    return (torch.sum((ind_result==ind_val).float())/len(y_test)).data.numpy()[0]"
   ]
  },
  {
   "cell_type": "code",
   "execution_count": null,
   "metadata": {
    "collapsed": true
   },
   "outputs": [],
   "source": [
    "def train(net, n_epochs, batch_size, X, y, X_test, y_test, shuffle=False):\n",
    "    optimizer = SimpleOptimizer(0.5*1e-6)\n",
    "    loss_history = []\n",
    "    test_history = []\n",
    "    x_tensor = Variable(torch.FloatTensor((batch_size, X.shape[1], X.shape[2])))\n",
    "    test_tensor = Variable(X_test)\n",
    "    val_tensor = Variable(y_test)\n",
    "    y_tensor = Variable(torch.FloatTensor((batch_size, y.shape[1])))\n",
    "    for i in range(n_epochs):\n",
    "        loss_per_batch = []\n",
    "        for x_batch, y_batch in iterate_minibatches(X, y, batch_size, shuffle):\n",
    "            x_tensor.data=x_batch\n",
    "            y_tensor.data=y_batch\n",
    "            net.forward(x_tensor.view(-1, 28*28), y_tensor)\n",
    "            loss_per_batch.append(net.loss_value.data.numpy()[0])\n",
    "            net.backward(optimizer)\n",
    "        clear_output()\n",
    "        result = net.forward(test_tensor.view(-1, 28*28), val_tensor)\n",
    "        test_history.append(net.loss_value.data.numpy()[0]/len(X_test))\n",
    "        print('Accuracy:{}'.format(accuracy(result, val_tensor)))\n",
    "        loss_history.append(np.average(loss_per_batch)/batch_size)\n",
    "        plt.plot(np.arange(i+1), loss_history)\n",
    "        plt.plot(np.arange(i+1), test_history)\n",
    "        plt.show()"
   ]
  },
  {
   "cell_type": "code",
   "execution_count": null,
   "metadata": {},
   "outputs": [],
   "source": [
    "net = SeqNet()\n",
    "\n",
    "net.add(Dense(28*28, 320))\n",
    "\n",
    "net.add(ReLU(320))\n",
    "\n",
    "net.add(Dense(320, 10))\n",
    "\n",
    "net.add(Softmax(10))\n",
    "\n",
    "net.setLoss(CrossEntropy())"
   ]
  },
  {
   "cell_type": "code",
   "execution_count": null,
   "metadata": {
    "scrolled": false
   },
   "outputs": [],
   "source": [
    "train(net, 50, 256, X_train, y_train, X_test, y_test)"
   ]
  },
  {
   "cell_type": "code",
   "execution_count": null,
   "metadata": {
    "collapsed": true
   },
   "outputs": [],
   "source": [
    "net = SeqNet()\n",
    "\n",
    "net.add(Dense(28*28, 320))\n",
    "\n",
    "net.add(ReLU(320))\n",
    "\n",
    "net.add(Dense(320, 128))\n",
    "\n",
    "net.add(ReLU(128))\n",
    "\n",
    "net.add(Dense(128, 10))\n",
    "\n",
    "net.add(Softmax(10))\n",
    "\n",
    "net.setLoss(CrossEntropy())"
   ]
  },
  {
   "cell_type": "code",
   "execution_count": null,
   "metadata": {},
   "outputs": [],
   "source": [
    "train(net, 50, 256, X_train, y_train, X_test, y_test)"
   ]
  }
 ],
 "metadata": {
  "kernelspec": {
   "display_name": "Python 3",
   "language": "python",
   "name": "python3"
  },
  "language_info": {
   "codemirror_mode": {
    "name": "ipython",
    "version": 3
   },
   "file_extension": ".py",
   "mimetype": "text/x-python",
   "name": "python",
   "nbconvert_exporter": "python",
   "pygments_lexer": "ipython3",
   "version": "3.5.2"
  }
 },
 "nbformat": 4,
 "nbformat_minor": 2
}
